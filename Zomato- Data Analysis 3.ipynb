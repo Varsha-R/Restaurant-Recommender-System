{
 "cells": [
  {
   "cell_type": "code",
   "execution_count": 1,
   "metadata": {},
   "outputs": [],
   "source": [
    "from sklearn.feature_extraction.text import TfidfVectorizer\n",
    "import pandas as pd\n",
    "import csv"
   ]
  },
  {
   "cell_type": "markdown",
   "metadata": {},
   "source": [
    "# Content-based extended review"
   ]
  },
  {
   "cell_type": "code",
   "execution_count": 2,
   "metadata": {},
   "outputs": [
    {
     "data": {
      "text/html": [
       "<div>\n",
       "<style scoped>\n",
       "    .dataframe tbody tr th:only-of-type {\n",
       "        vertical-align: middle;\n",
       "    }\n",
       "\n",
       "    .dataframe tbody tr th {\n",
       "        vertical-align: top;\n",
       "    }\n",
       "\n",
       "    .dataframe thead th {\n",
       "        text-align: right;\n",
       "    }\n",
       "</style>\n",
       "<table border=\"1\" class=\"dataframe\">\n",
       "  <thead>\n",
       "    <tr style=\"text-align: right;\">\n",
       "      <th></th>\n",
       "      <th>rest_index</th>\n",
       "      <th>rest_name</th>\n",
       "      <th>locality</th>\n",
       "      <th>cost_for_two</th>\n",
       "      <th>rating</th>\n",
       "      <th>votes</th>\n",
       "      <th>cuisines</th>\n",
       "    </tr>\n",
       "  </thead>\n",
       "  <tbody>\n",
       "    <tr>\n",
       "      <th>0</th>\n",
       "      <td>0</td>\n",
       "      <td>Punjab Grill</td>\n",
       "      <td>Orion Mall, Malleshwaram</td>\n",
       "      <td>2,000</td>\n",
       "      <td>4.9</td>\n",
       "      <td>2058</td>\n",
       "      <td>['North Indian', 'Mughlai']</td>\n",
       "    </tr>\n",
       "    <tr>\n",
       "      <th>1</th>\n",
       "      <td>1</td>\n",
       "      <td>Byg Brewski Brewing Company</td>\n",
       "      <td>Sarjapur Road</td>\n",
       "      <td>1,600</td>\n",
       "      <td>4.9</td>\n",
       "      <td>17034</td>\n",
       "      <td>['Continental', 'North Indian', 'Italian', 'So...</td>\n",
       "    </tr>\n",
       "    <tr>\n",
       "      <th>2</th>\n",
       "      <td>2</td>\n",
       "      <td>Brahmin's Coffee Bar</td>\n",
       "      <td>Basavanagudi</td>\n",
       "      <td>100</td>\n",
       "      <td>4.9</td>\n",
       "      <td>2711</td>\n",
       "      <td>['South Indian']</td>\n",
       "    </tr>\n",
       "    <tr>\n",
       "      <th>3</th>\n",
       "      <td>3</td>\n",
       "      <td>Taaza Thindi</td>\n",
       "      <td>Jayanagar</td>\n",
       "      <td>100</td>\n",
       "      <td>4.9</td>\n",
       "      <td>4152</td>\n",
       "      <td>['South Indian']</td>\n",
       "    </tr>\n",
       "    <tr>\n",
       "      <th>4</th>\n",
       "      <td>4</td>\n",
       "      <td>Santé Spa Cuisine</td>\n",
       "      <td>Indiranagar</td>\n",
       "      <td>1,000</td>\n",
       "      <td>4.9</td>\n",
       "      <td>279</td>\n",
       "      <td>['Healthy Food', 'Salad', 'Mediterranean']</td>\n",
       "    </tr>\n",
       "  </tbody>\n",
       "</table>\n",
       "</div>"
      ],
      "text/plain": [
       "   rest_index                    rest_name                  locality  \\\n",
       "0           0                 Punjab Grill  Orion Mall, Malleshwaram   \n",
       "1           1  Byg Brewski Brewing Company             Sarjapur Road   \n",
       "2           2         Brahmin's Coffee Bar              Basavanagudi   \n",
       "3           3                 Taaza Thindi                 Jayanagar   \n",
       "4           4            Santé Spa Cuisine               Indiranagar   \n",
       "\n",
       "  cost_for_two  rating  votes  \\\n",
       "0        2,000     4.9   2058   \n",
       "1        1,600     4.9  17034   \n",
       "2          100     4.9   2711   \n",
       "3          100     4.9   4152   \n",
       "4        1,000     4.9    279   \n",
       "\n",
       "                                            cuisines  \n",
       "0                        ['North Indian', 'Mughlai']  \n",
       "1  ['Continental', 'North Indian', 'Italian', 'So...  \n",
       "2                                   ['South Indian']  \n",
       "3                                   ['South Indian']  \n",
       "4         ['Healthy Food', 'Salad', 'Mediterranean']  "
      ]
     },
     "execution_count": 2,
     "metadata": {},
     "output_type": "execute_result"
    }
   ],
   "source": [
    "df = pd.read_csv('zomato_restaurants.csv')\n",
    "df.head()"
   ]
  },
  {
   "cell_type": "code",
   "execution_count": 4,
   "metadata": {},
   "outputs": [],
   "source": [
    "tf = TfidfVectorizer(analyzer='word',ngram_range=(1, 2),min_df=0, stop_words='english')\n",
    "tfidf_matrix = tf.fit_transform(df['cuisines'])"
   ]
  },
  {
   "cell_type": "code",
   "execution_count": 10,
   "metadata": {},
   "outputs": [
    {
     "name": "stdout",
     "output_type": "stream",
     "text": [
      "1165\n",
      "['afghan', 'african', 'african burger', 'american', 'american arabian', 'american asian', 'american bakery', 'american bbq', 'american beverages', 'american burger', 'american cafe', 'american chinese', 'american continental', 'american desserts', 'american european', 'american fast', 'american finger', 'american goan', 'american indonesian', 'american italian', 'american mediterranean', 'american mexican', 'american modern', 'american north', 'american pizza', 'american salad', 'american sandwich', 'american seafood', 'american south', 'american steak', 'american tex', 'andhra', 'andhra asian', 'andhra bbq', 'andhra bengali', 'andhra biryani', 'andhra cafe', 'andhra chinese', 'andhra continental', 'andhra fast', 'andhra hyderabadi', 'andhra kebab', 'andhra kerala', 'andhra mangalorean', 'andhra mughlai', 'andhra north', 'andhra seafood', 'andhra south', 'arabian', 'arabian afghan', 'arabian bbq', 'arabian beverages', 'arabian biryani', 'arabian charcoal', 'arabian chinese', 'arabian continental', 'arabian fast', 'arabian juices', 'arabian kebab', 'arabian kerala', 'arabian lebanese', 'arabian middle', 'arabian momos', 'arabian mughlai', 'arabian north', 'arabian pizza', 'arabian rolls', 'arabian sandwich', 'arabian seafood', 'arabian steak', 'asian', 'asian american', 'asian bakery', 'asian bbq', 'asian beverages', 'asian biryani', 'asian burger', 'asian cantonese', 'asian chinese', 'asian continental', 'asian desserts', 'asian european', 'asian fast', 'asian finger', 'asian grill', 'asian healthy', 'asian indonesian', 'asian italian', 'asian japanese', 'asian korean', 'asian malaysian', 'asian mediterranean', 'asian modern', 'asian momos', 'asian naga', 'asian nepalese', 'asian north', 'asian pizza', 'asian salad', 'asian seafood', 'asian south', 'asian sushi', 'asian thai', 'assamese', 'australian', 'australian continental', 'awadhi', 'awadhi bengali', 'awadhi bihari', 'awadhi mughlai', 'bakery', 'bakery arabian', 'bakery beverages', 'bakery cafe', 'bakery chinese', 'bakery continental', 'bakery desserts', 'bakery european', 'bakery fast', 'bakery french', 'bakery greek', 'bakery healthy', 'bakery italian', 'bakery juices', 'bakery mithai', 'bakery salad', 'bakery sandwich', 'bakery street', 'bar', 'bar food', 'bbq', 'bbq arabian', 'bbq asian', 'bbq beverages', 'bbq biryani', 'bbq burger', 'bbq chinese', 'bbq continental', 'bbq european', 'bbq fast', 'bbq finger', 'bbq kebab', 'bbq mexican', 'bbq middle', 'bbq momos', 'bbq mughlai', 'bbq north', 'bbq rolls', 'bbq salad', 'bbq seafood', 'bbq south', 'bbq steak', 'belgian', 'belgian beverages', 'bengali', 'bengali beverages', 'bengali bihari', 'bengali biryani', 'bengali chinese', 'bengali continental', 'bengali fast', 'bengali juices', 'bengali mughlai', 'bengali north', 'bengali oriya', 'bengali rolls', 'bengali seafood', 'beverages', 'beverages american', 'beverages andhra', 'beverages bubble', 'beverages burger', 'beverages cafe', 'beverages chinese', 'beverages continental', 'beverages desserts', 'beverages european', 'beverages fast', 'beverages gujarati', 'beverages healthy', 'beverages ice', 'beverages italian', 'beverages juices', 'beverages kebab', 'beverages mediterranean', 'beverages momos', 'beverages north', 'beverages pizza', 'beverages rolls', 'beverages salad', 'beverages sandwich', 'beverages seafood', 'beverages south', 'beverages street', 'beverages tea', 'bihari', 'bihari fast', 'bihari north', 'bihari rajasthani', 'biryani', 'biryani afghan', 'biryani andhra', 'biryani arabian', 'biryani awadhi', 'biryani bbq', 'biryani bengali', 'biryani beverages', 'biryani charcoal', 'biryani chettinad', 'biryani chinese', 'biryani continental', 'biryani desserts', 'biryani fast', 'biryani hyderabadi', 'biryani italian', 'biryani juices', 'biryani kebab', 'biryani kerala', 'biryani lucknowi', 'biryani mangalorean', 'biryani momos', 'biryani mughlai', 'biryani north', 'biryani pizza', 'biryani rolls', 'biryani seafood', 'biryani south', 'biryani street', 'biryani thai', 'bohri', 'british', 'british continental', 'bubble', 'bubble tea', 'burger', 'burger american', 'burger bbq', 'burger beverages', 'burger biryani', 'burger cafe', 'burger chinese', 'burger coffee', 'burger continental', 'burger desserts', 'burger fast', 'burger finger', 'burger healthy', 'burger hot', 'burger italian', 'burger juices', 'burger momos', 'burger north', 'burger pizza', 'burger rolls', 'burger salad', 'burger sandwich', 'burger south', 'burger wraps', 'burmese', 'burmese chinese', 'burmese japanese', 'burmese korean', 'cafe', 'cafe american', 'cafe arabian', 'cafe asian', 'cafe bakery', 'cafe beverages', 'cafe burger', 'cafe chinese', 'cafe coffee', 'cafe continental', 'cafe desserts', 'cafe drinks', 'cafe european', 'cafe fast', 'cafe french', 'cafe german', 'cafe healthy', 'cafe ice', 'cafe italian', 'cafe japanese', 'cafe lebanese', 'cafe mediterranean', 'cafe mexican', 'cafe modern', 'cafe north', 'cafe pizza', 'cafe rolls', 'cafe salad', 'cafe sandwich', 'cafe south', 'cafe steak', 'cafe street', 'cafe tea', 'cafe turkish', 'cantonese', 'cantonese tea', 'charcoal', 'charcoal chicken', 'chettinad', 'chettinad andhra', 'chettinad arabian', 'chettinad biryani', 'chettinad chinese', 'chettinad juices', 'chettinad kerala', 'chettinad konkan', 'chettinad mangalorean', 'chettinad north', 'chettinad south', 'chicken', 'chicken burger', 'chicken chinese', 'chicken desserts', 'chicken finger', 'chinese', 'chinese american', 'chinese andhra', 'chinese arabian', 'chinese asian', 'chinese assamese', 'chinese bbq', 'chinese bengali', 'chinese beverages', 'chinese biryani', 'chinese burger', 'chinese cafe', 'chinese chettinad', 'chinese coffee', 'chinese continental', 'chinese desserts', 'chinese european', 'chinese fast', 'chinese finger', 'chinese goan', 'chinese grill', 'chinese gujarati', 'chinese healthy', 'chinese hyderabadi', 'chinese indonesian', 'chinese italian', 'chinese japanese', 'chinese juices', 'chinese kebab', 'chinese kerala', 'chinese korean', 'chinese lebanese', 'chinese maharashtrian', 'chinese malaysian', 'chinese mangalorean', 'chinese mediterranean', 'chinese mexican', 'chinese middle', 'chinese mithai', 'chinese modern', 'chinese momos', 'chinese mongolian', 'chinese mughlai', 'chinese naga', 'chinese north', 'chinese oriya', 'chinese pizza', 'chinese rajasthani', 'chinese rolls', 'chinese salad', 'chinese sandwich', 'chinese seafood', 'chinese singaporean', 'chinese south', 'chinese steak', 'chinese street', 'chinese sushi', 'chinese thai', 'chinese tibetan', 'chinese vietnamese', 'coffee', 'coffee beverages', 'coffee continental', 'coffee desserts', 'coffee fast', 'coffee finger', 'coffee south', 'continental', 'continental american', 'continental andhra', 'continental arabian', 'continental asian', 'continental bakery', 'continental bbq', 'continental bengali', 'continental beverages', 'continental biryani', 'continental british', 'continental burger', 'continental cafe', 'continental chettinad', 'continental chinese', 'continental coffee', 'continental desserts', 'continental european', 'continental fast', 'continental finger', 'continental french', 'continental goan', 'continental healthy', 'continental italian', 'continental japanese', 'continental juices', 'continental malaysian', 'continental mangalorean', 'continental mediterranean', 'continental mexican', 'continental modern', 'continental momos', 'continental mughlai', 'continental north', 'continental parsi', 'continental pizza', 'continental salad', 'continental sandwich', 'continental seafood', 'continental south', 'continental steak', 'continental street', 'continental tea', 'continental thai', 'continental turkish', 'cream', 'cream bakery', 'cream beverages', 'cream cafe', 'cream desserts', 'cream fast', 'cream finger', 'cream juices', 'cream mithai', 'cream pizza', 'cream salad', 'cream sandwich', 'desserts', 'desserts asian', 'desserts bakery', 'desserts belgian', 'desserts beverages', 'desserts biryani', 'desserts cafe', 'desserts chinese', 'desserts continental', 'desserts fast', 'desserts healthy', 'desserts ice', 'desserts italian', 'desserts juices', 'desserts lebanese', 'desserts mithai', 'desserts momos', 'desserts north', 'desserts paan', 'desserts pizza', 'desserts rolls', 'desserts salad', 'desserts sandwich', 'desserts seafood', 'desserts spanish', 'desserts street', 'dogs', 'drinks', 'drinks juices', 'eastern', 'eastern asian', 'eastern chinese', 'eastern fast', 'eastern grill', 'eastern salad', 'eastern wraps', 'european', 'european american', 'european asian', 'european bbq', 'european beverages', 'european chinese', 'european continental', 'european french', 'european healthy', 'european italian', 'european japanese', 'european juices', 'european mediterranean', 'european north', 'european salad', 'european sandwich', 'european seafood', 'european spanish', 'european steak', 'european tex', 'european thai', 'fast', 'fast food', 'finger', 'finger food', 'food', 'food afghan', 'food american', 'food andhra', 'food arabian', 'food asian', 'food bakery', 'food bar', 'food bbq', 'food bengali', 'food beverages', 'food biryani', 'food burger', 'food cafe', 'food chinese', 'food coffee', 'food continental', 'food desserts', 'food european', 'food fast', 'food finger', 'food gujarati', 'food healthy', 'food ice', 'food italian', 'food juices', 'food kebab', 'food lebanese', 'food maharashtrian', 'food mangalorean', 'food mediterranean', 'food mexican', 'food mithai', 'food momos', 'food north', 'food pizza', 'food raw', 'food roast', 'food rolls', 'food salad', 'food sandwich', 'food seafood', 'food south', 'food steak', 'food street', 'food tea', 'food wraps', 'french', 'french desserts', 'french fast', 'french italian', 'french jewish', 'french north', 'french pizza', 'french salad', 'french wraps', 'german', 'german italian', 'goan', 'goan asian', 'goan cafe', 'goan chinese', 'goan healthy', 'goan mangalorean', 'goan north', 'goan seafood', 'greek', 'greek beverages', 'greek lebanese', 'greek mediterranean', 'grill', 'gujarati', 'gujarati fast', 'gujarati north', 'gujarati rajasthani', 'gujarati south', 'healthy', 'healthy food', 'hot', 'hot dogs', 'hyderabadi', 'hyderabadi andhra', 'hyderabadi biryani', 'hyderabadi chinese', 'hyderabadi kebab', 'hyderabadi kerala', 'hyderabadi mughlai', 'hyderabadi north', 'hyderabadi seafood', 'ice', 'ice cream', 'indian', 'indian afghan', 'indian american', 'indian andhra', 'indian arabian', 'indian asian', 'indian awadhi', 'indian bakery', 'indian bar', 'indian bbq', 'indian bengali', 'indian beverages', 'indian bihari', 'indian biryani', 'indian burger', 'indian cafe', 'indian charcoal', 'indian chettinad', 'indian chinese', 'indian coffee', 'indian continental', 'indian desserts', 'indian european', 'indian fast', 'indian finger', 'indian goan', 'indian gujarati', 'indian healthy', 'indian hyderabadi', 'indian ice', 'indian iranian', 'indian italian', 'indian japanese', 'indian juices', 'indian kashmiri', 'indian kebab', 'indian kerala', 'indian lebanese', 'indian lucknowi', 'indian maharashtrian', 'indian mangalorean', 'indian mediterranean', 'indian mexican', 'indian mithai', 'indian modern', 'indian momos', 'indian mughlai', 'indian north', 'indian oriya', 'indian pan', 'indian pizza', 'indian rajasthani', 'indian rolls', 'indian salad', 'indian sandwich', 'indian seafood', 'indian sindhi', 'indian south', 'indian steak', 'indian street', 'indian tea', 'indian thai', 'indian turkish', 'indonesian', 'indonesian asian', 'indonesian japanese', 'indonesian korean', 'indonesian malaysian', 'indonesian thai', 'iranian', 'iranian mughlai', 'italian', 'italian american', 'italian asian', 'italian bakery', 'italian bbq', 'italian beverages', 'italian burger', 'italian cafe', 'italian chinese', 'italian coffee', 'italian continental', 'italian desserts', 'italian european', 'italian fast', 'italian finger', 'italian french', 'italian ice', 'italian japanese', 'italian korean', 'italian mediterranean', 'italian mexican', 'italian modern', 'italian momos', 'italian north', 'italian pizza', 'italian rolls', 'italian salad', 'italian sandwich', 'italian seafood', 'italian south', 'italian steak', 'italian street', 'italian tex', 'japanese', 'japanese asian', 'japanese bbq', 'japanese chinese', 'japanese european', 'japanese italian', 'japanese korean', 'japanese malaysian', 'japanese north', 'japanese sushi', 'japanese thai', 'japanese vietnamese', 'jewish', 'jewish sandwich', 'juices', 'juices beverages', 'juices burger', 'juices cafe', 'juices chinese', 'juices desserts', 'juices fast', 'juices finger', 'juices healthy', 'juices ice', 'juices north', 'juices salad', 'juices sandwich', 'juices south', 'juices street', 'kashmiri', 'kashmiri cafe', 'kashmiri mughlai', 'kebab', 'kebab beverages', 'kebab biryani', 'kebab chinese', 'kebab continental', 'kebab fast', 'kebab german', 'kebab hyderabadi', 'kebab juices', 'kebab kerala', 'kebab mughlai', 'kebab north', 'kebab rolls', 'kebab sandwich', 'kerala', 'kerala andhra', 'kerala arabian', 'kerala beverages', 'kerala biryani', 'kerala chinese', 'kerala continental', 'kerala desserts', 'kerala fast', 'kerala juices', 'kerala konkan', 'kerala maharashtrian', 'kerala mangalorean', 'kerala mughlai', 'kerala north', 'kerala seafood', 'kerala south', 'kerala sri', 'kerala tea', 'konkan', 'konkan desserts', 'konkan juices', 'konkan mangalorean', 'konkan seafood', 'korean', 'korean burmese', 'korean chinese', 'korean indonesian', 'korean malaysian', 'korean mexican', 'korean sushi', 'korean thai', 'korean vietnamese', 'lankan', 'lankan burmese', 'lebanese', 'lebanese arabian', 'lebanese greek', 'lebanese mediterranean', 'lebanese middle', 'lebanese mughlai', 'lebanese north', 'lebanese rolls', 'lebanese turkish', 'lucknowi', 'lucknowi afghan', 'lucknowi biryani', 'lucknowi mughlai', 'lucknowi rolls', 'maharashtrian', 'maharashtrian fast', 'maharashtrian goan', 'maharashtrian north', 'maharashtrian south', 'maharashtrian street', 'malaysian', 'malaysian burmese', 'malaysian chinese', 'malaysian singaporean', 'malaysian thai', 'malaysian vietnamese', 'mangalorean', 'mangalorean andhra', 'mangalorean chinese', 'mangalorean continental', 'mangalorean kerala', 'mangalorean konkan', 'mangalorean maharashtrian', 'mangalorean mughlai', 'mangalorean north', 'mangalorean pizza', 'mangalorean seafood', 'mangalorean south', 'meats', 'mediterranean', 'mediterranean afghan', 'mediterranean american', 'mediterranean arabian', 'mediterranean asian', 'mediterranean bakery', 'mediterranean bbq', 'mediterranean beverages', 'mediterranean cafe', 'mediterranean chinese', 'mediterranean continental', 'mediterranean desserts', 'mediterranean european', 'mediterranean grill', 'mediterranean healthy', 'mediterranean iranian', 'mediterranean italian', 'mediterranean middle', 'mediterranean north', 'mediterranean pizza', 'mediterranean salad', 'mediterranean south', 'mex', 'mex burger', 'mex fast', 'mexican', 'mexican american', 'mexican asian', 'mexican bbq', 'mexican beverages', 'mexican biryani', 'mexican burger', 'mexican chinese', 'mexican continental', 'mexican fast', 'mexican italian', 'mexican lebanese', 'mexican mediterranean', 'mexican momos', 'mexican north', 'mexican tex', 'mexican thai', 'middle', 'middle eastern', 'mithai', 'mithai bakery', 'mithai chinese', 'mithai desserts', 'mithai fast', 'mithai gujarati', 'mithai momos', 'mithai north', 'mithai oriya', 'mithai rajasthani', 'mithai south', 'mithai street', 'modern', 'modern indian', 'momos', 'momos bengali', 'momos biryani', 'momos chinese', 'momos fast', 'momos italian', 'momos nepalese', 'momos north', 'momos rolls', 'momos seafood', 'momos street', 'momos thai', 'momos vietnamese', 'mongolian', 'mughlai', 'mughlai afghan', 'mughlai andhra', 'mughlai arabian', 'mughlai asian', 'mughlai bbq', 'mughlai bengali', 'mughlai beverages', 'mughlai biryani', 'mughlai chinese', 'mughlai desserts', 'mughlai fast', 'mughlai hyderabadi', 'mughlai ice', 'mughlai italian', 'mughlai kebab', 'mughlai lucknowi', 'mughlai mediterranean', 'mughlai mexican', 'mughlai middle', 'mughlai north', 'mughlai rolls', 'mughlai salad', 'mughlai seafood', 'mughlai south', 'mughlai steak', 'mughlai street', 'naga', 'naga chinese', 'naga goan', 'naga steak', 'nepalese', 'nepalese momos', 'nepalese tibetan', 'north', 'north eastern', 'north indian', 'oriya', 'oriya bengali', 'oriya chinese', 'oriya fast', 'oriya mithai', 'oriya north', 'oriya south', 'paan', 'pan', 'pan asian', 'parsi', 'parsi chinese', 'parsi north', 'pizza', 'pizza american', 'pizza asian', 'pizza bakery', 'pizza bbq', 'pizza beverages', 'pizza biryani', 'pizza burger', 'pizza cafe', 'pizza chinese', 'pizza continental', 'pizza desserts', 'pizza european', 'pizza fast', 'pizza finger', 'pizza greek', 'pizza italian', 'pizza juices', 'pizza mexican', 'pizza momos', 'pizza north', 'pizza rolls', 'pizza salad', 'pizza sandwich', 'pizza seafood', 'pizza south', 'pizza steak', 'pizza street', 'pizza thai', 'portuguese', 'portuguese wraps', 'rajasthani', 'rajasthani gujarati', 'rajasthani north', 'raw', 'raw meats', 'roast', 'roast chicken', 'rolls', 'rolls andhra', 'rolls arabian', 'rolls bakery', 'rolls bbq', 'rolls beverages', 'rolls biryani', 'rolls burger', 'rolls chinese', 'rolls fast', 'rolls juices', 'rolls kebab', 'rolls lebanese', 'rolls momos', 'rolls mughlai', 'rolls north', 'rolls salad', 'rolls sandwich', 'rolls street', 'rolls tea', 'russian', 'russian continental', 'salad', 'salad asian', 'salad bakery', 'salad bbq', 'salad beverages', 'salad biryani', 'salad burger', 'salad cafe', 'salad chinese', 'salad continental', 'salad desserts', 'salad fast', 'salad greek', 'salad healthy', 'salad ice', 'salad italian', 'salad juices', 'salad kebab', 'salad mediterranean', 'salad mexican', 'salad momos', 'salad north', 'salad pizza', 'salad rolls', 'salad sandwich', 'salad steak', 'salad wraps', 'sandwich', 'sandwich arabian', 'sandwich beverages', 'sandwich burger', 'sandwich chinese', 'sandwich desserts', 'sandwich fast', 'sandwich finger', 'sandwich healthy', 'sandwich italian', 'sandwich juices', 'sandwich north', 'sandwich pizza', 'sandwich rolls', 'sandwich salad', 'sandwich south', 'sandwich vegan', 'sandwich wraps', 'seafood', 'seafood american', 'seafood andhra', 'seafood bbq', 'seafood bengali', 'seafood beverages', 'seafood biryani', 'seafood chinese', 'seafood continental', 'seafood fast', 'seafood goan', 'seafood hyderabadi', 'seafood italian', 'seafood kebab', 'seafood kerala', 'seafood konkan', 'seafood maharashtrian', 'seafood malaysian', 'seafood mangalorean', 'seafood mexican', 'seafood middle', 'seafood momos', 'seafood mughlai', 'seafood north', 'seafood oriya', 'seafood pizza', 'seafood rolls', 'seafood salad', 'seafood south', 'seafood spanish', 'seafood thai', 'sindhi', 'sindhi seafood', 'singaporean', 'singaporean asian', 'singaporean thai', 'south', 'south american', 'south indian', 'spanish', 'spanish continental', 'spanish italian', 'sri', 'sri lankan', 'steak', 'steak chinese', 'steak continental', 'steak fast', 'steak italian', 'steak mediterranean', 'steak momos', 'steak salad', 'street', 'street food', 'sushi', 'sushi asian', 'sushi continental', 'sushi desserts', 'tamil', 'tamil biryani', 'tamil fast', 'tamil south', 'tea', 'tea beverages', 'tea coffee', 'tea desserts', 'tea fast', 'tea finger', 'tea sandwich', 'tea street', 'tea tea', 'tex', 'tex mex', 'thai', 'thai american', 'thai asian', 'thai burmese', 'thai chinese', 'thai continental', 'thai indonesian', 'thai italian', 'thai japanese', 'thai korean', 'thai malaysian', 'thai momos', 'thai mughlai', 'thai nepalese', 'thai north', 'thai salad', 'thai seafood', 'thai singaporean', 'thai vietnamese', 'tibetan', 'tibetan asian', 'tibetan chinese', 'tibetan momos', 'tibetan nepalese', 'tibetan north', 'turkish', 'turkish afghan', 'turkish bbq', 'turkish chinese', 'turkish desserts', 'turkish european', 'turkish fast', 'turkish rolls', 'vegan', 'vegan coffee', 'vietnamese', 'vietnamese american', 'vietnamese asian', 'vietnamese chinese', 'vietnamese korean', 'vietnamese momos', 'vietnamese salad', 'vietnamese sri', 'vietnamese thai', 'wraps', 'wraps beverages', 'wraps burger', 'wraps pizza', 'wraps rolls']\n"
     ]
    }
   ],
   "source": [
    "# Get features\n",
    "feature_names = tf.get_feature_names()\n",
    "print(len(feature_names))\n",
    "print(feature_names)"
   ]
  },
  {
   "cell_type": "code",
   "execution_count": 24,
   "metadata": {},
   "outputs": [
    {
     "name": "stdout",
     "output_type": "stream",
     "text": [
      "1165\n",
      "[7.59379145 9.29853955 9.29853955 ... 9.29853955 9.29853955 8.89307444]\n"
     ]
    }
   ],
   "source": [
    "# tf-idf score of each feature\n",
    "print(len(tf.idf_))\n",
    "print(tf.idf_)"
   ]
  },
  {
   "cell_type": "code",
   "execution_count": 27,
   "metadata": {},
   "outputs": [
    {
     "name": "stdout",
     "output_type": "stream",
     "text": [
      "(8035, 1165)\n",
      "  (0, 922)\t0.23938322242107657\n",
      "  (0, 592)\t0.21234590644300375\n",
      "  (0, 888)\t0.597860802500554\n",
      "  (0, 924)\t0.2395649338829215\n",
      "  (0, 638)\t0.6948208345518041\n",
      "  (1, 922)\t0.10222998199024363\n",
      "  (1, 592)\t0.18136708138371968\n",
      "  (1, 924)\t0.10230758291517039\n",
      "  (1, 383)\t0.19448745575447085\n",
      "  (1, 663)\t0.23246273784929813\n",
      "  (1, 1079)\t0.14507176836591065\n",
      "  (1, 499)\t0.2872407430168685\n",
      "  (1, 501)\t0.14400785514007264\n",
      "  (1, 416)\t0.3126188884495961\n",
      "  (1, 623)\t0.3810649968902911\n",
      "  (1, 692)\t0.4574895017702353\n",
      "  (1, 1081)\t0.1451043157579797\n",
      "  (1, 616)\t0.4174114264700863\n",
      "  (1, 500)\t0.2872407430168685\n",
      "  (2, 592)\t0.40423914585582676\n",
      "  (2, 1079)\t0.6466850244775918\n",
      "  (2, 1081)\t0.6468301106737134\n",
      "  (3, 592)\t0.40423914585582676\n",
      "  (3, 1079)\t0.6466850244775918\n",
      "  (3, 1081)\t0.6468301106737134\n",
      "  :\t:\n",
      "  (8028, 757)\t0.7512811234993051\n",
      "  (8029, 841)\t1.0\n",
      "  (8030, 922)\t0.4046611427038459\n",
      "  (8030, 592)\t0.35895638917652184\n",
      "  (8030, 924)\t0.40496831363691654\n",
      "  (8030, 316)\t0.4630149475565673\n",
      "  (8030, 610)\t0.5736004650836957\n",
      "  (8031, 922)\t0.18170871856302576\n",
      "  (8031, 592)\t0.16118549228981022\n",
      "  (8031, 888)\t0.4538184389144264\n",
      "  (8031, 924)\t0.18184665035517938\n",
      "  (8031, 638)\t0.5274179292950494\n",
      "  (8031, 316)\t0.20791186481081125\n",
      "  (8031, 897)\t0.6169155398094313\n",
      "  (8032, 154)\t1.0\n",
      "  (8033, 499)\t0.6664666374132318\n",
      "  (8033, 501)\t0.33413237261630274\n",
      "  (8033, 500)\t0.6664666374132318\n",
      "  (8034, 922)\t0.19255246990749966\n",
      "  (8034, 592)\t0.17080448807905782\n",
      "  (8034, 924)\t0.19269863299459852\n",
      "  (8034, 383)\t0.36632149632113686\n",
      "  (8034, 316)\t0.22031932979875196\n",
      "  (8034, 612)\t0.5714035800926667\n",
      "  (8034, 397)\t0.6224006048630906\n"
     ]
    }
   ],
   "source": [
    "print(tfidf_matrix.shape)\n",
    "print(tfidf_matrix)"
   ]
  },
  {
   "cell_type": "code",
   "execution_count": null,
   "metadata": {},
   "outputs": [],
   "source": [
    "#You see that over 1165 different words were used to describe the 8035 restaurants in your dataset."
   ]
  },
  {
   "cell_type": "code",
   "execution_count": 25,
   "metadata": {},
   "outputs": [
    {
     "name": "stdout",
     "output_type": "stream",
     "text": [
      "mughlai\n"
     ]
    }
   ],
   "source": [
    "print(feature_names[888])"
   ]
  },
  {
   "cell_type": "code",
   "execution_count": 28,
   "metadata": {},
   "outputs": [],
   "source": [
    "from sklearn.metrics.pairwise import linear_kernel\n",
    "cosine_sim = linear_kernel(tfidf_matrix, tfidf_matrix)"
   ]
  },
  {
   "cell_type": "code",
   "execution_count": 29,
   "metadata": {},
   "outputs": [
    {
     "data": {
      "text/plain": [
       "(8035, 8035)"
      ]
     },
     "execution_count": 29,
     "metadata": {},
     "output_type": "execute_result"
    }
   ],
   "source": [
    "cosine_sim.shape"
   ]
  },
  {
   "cell_type": "code",
   "execution_count": 30,
   "metadata": {},
   "outputs": [
    {
     "name": "stdout",
     "output_type": "stream",
     "text": [
      "[[1.         0.08749401 0.08583853 ... 0.         0.         0.1285273 ]\n",
      " [0.08749401 1.         0.26098925 ... 0.         0.43099043 0.14162241]\n",
      " [0.08583853 0.26098925 1.         ... 0.         0.         0.06904586]\n",
      " ...\n",
      " [0.         0.         0.         ... 1.         0.         0.        ]\n",
      " [0.         0.43099043 0.         ... 0.         1.         0.        ]\n",
      " [0.1285273  0.14162241 0.06904586 ... 0.         0.         1.        ]]\n"
     ]
    }
   ],
   "source": [
    "print(cosine_sim)"
   ]
  },
  {
   "cell_type": "code",
   "execution_count": 31,
   "metadata": {},
   "outputs": [
    {
     "name": "stdout",
     "output_type": "stream",
     "text": [
      "rest_name\n",
      "Punjab Grill                           0\n",
      "Byg Brewski Brewing Company            1\n",
      "Brahmin's Coffee Bar                   2\n",
      "Taaza Thindi                           3\n",
      "Santé Spa Cuisine                      4\n",
      "Belgian Waffle Factory                 5\n",
      "Milano Ice Cream                       6\n",
      "The Boozy Griffin                      7\n",
      "O.G. Variar & Sons                     8\n",
      "Asia Kitchen By Mainland China         9\n",
      "CTR                                   10\n",
      "The Globe Grub                        11\n",
      "TBC Sky Lounge                        12\n",
      "Punjab Grill                          13\n",
      "The Big Barbeque                      14\n",
      "AB's - Absolute Barbecues             15\n",
      "Barbecue by Punjab Grill              16\n",
      "Kurtoskalacs                          17\n",
      "Rim Naam - The Oberoi                 18\n",
      "Smoke House Deli                      19\n",
      "Maziga                                20\n",
      "Fenny's Lounge And Kitchen            21\n",
      "Natural Ice Cream                     22\n",
      "The Pancake Story                     23\n",
      "Chili's American Grill & Bar          24\n",
      "Brik Oven                             25\n",
      "Baar Union                            26\n",
      "Bologna                               27\n",
      "Lot Like Crepes                       28\n",
      "Mugful Of Stories                     29\n",
      "                                    ... \n",
      "Krishna Punjabi Restaurant          8005\n",
      "Gold Bean                           8006\n",
      "Nile Garden Restaurant              8007\n",
      "Grills & Rolls                      8008\n",
      "Woody's                             8009\n",
      "Knight Riders                       8010\n",
      "Night Spoon                         8011\n",
      "Navya's                             8012\n",
      "Tandooriwala                        8013\n",
      "Zaika Take Away                     8014\n",
      "The Baker's                         8015\n",
      "Nakkala's Food Hunt                 8016\n",
      "Raenss Cafe                         8017\n",
      "Punjabi Daawat                      8018\n",
      "Oottupura                           8019\n",
      "Lazeez                              8020\n",
      "New Tandoori Point                  8021\n",
      "Paratha Junction                    8022\n",
      "Hotel Hyperdine                     8023\n",
      "Ammi's Biryani                      8024\n",
      "Meghana Biryani                     8025\n",
      "Biryani Junction                    8026\n",
      "Tandoor Hut                         8027\n",
      "Taste Of Kerala                     8028\n",
      "Mamma Mexicana                      8029\n",
      "Bageecha                            8030\n",
      "Midnight Hunger Solutions 24/7      8031\n",
      "Decker's Lane                       8032\n",
      "Fusion Lounge                       8033\n",
      "Alibi - Maya International Hotel    8034\n",
      "Length: 8035, dtype: int64\n"
     ]
    }
   ],
   "source": [
    "# Build a 1-dimensional array with restaurant titles\n",
    "titles = df['rest_name']\n",
    "indices = pd.Series(df.index, index=df['rest_name'])\n",
    "print(indices)"
   ]
  },
  {
   "cell_type": "code",
   "execution_count": 32,
   "metadata": {},
   "outputs": [],
   "source": [
    "def restaurant_recommendations(title):\n",
    "    # 1.\tGet the index of the restaurant that matches the title\n",
    "    idx = indices[title]\n",
    "    \n",
    "    # 2.\tGet the list of cosine similarity scores for that particular restaurant with all restaurants. \n",
    "    # Convert it into a list of tuples where the first element is its position and the second is the similarity score.\n",
    "    sim_scores = list(enumerate(cosine_sim[idx]))\n",
    "    \n",
    "    # 3.\tSort the restaurants based on the similarity score.\n",
    "    sim_scores = sorted(sim_scores, key=lambda x: x[1], reverse=True)\n",
    "    \n",
    "    # 4.\tGet the restaurant indices based on the similarity score.\n",
    "    rest_indices = [i[0] for i in sim_scores]\n",
    "    \n",
    "    # 5.\tGet the restaurant name based on the restaurant indices\n",
    "    final = titles.iloc[rest_indices].head()\n",
    "    \n",
    "    return final.values"
   ]
  },
  {
   "cell_type": "code",
   "execution_count": null,
   "metadata": {},
   "outputs": [],
   "source": []
  },
  {
   "cell_type": "markdown",
   "metadata": {},
   "source": [
    "# Item-based collaborative filtering"
   ]
  },
  {
   "cell_type": "code",
   "execution_count": 33,
   "metadata": {},
   "outputs": [],
   "source": [
    "userR = pd.read_csv('userRatings.csv')\n",
    "corrM = pd.read_csv('corrMatrix.csv')"
   ]
  },
  {
   "cell_type": "code",
   "execution_count": 35,
   "metadata": {},
   "outputs": [],
   "source": [
    "user_index = userR.cust_name[userR.cust_name == 'Sunitha Pai'].index[0]\n",
    "myRatings = userR.iloc[user_index].dropna()"
   ]
  },
  {
   "cell_type": "code",
   "execution_count": 44,
   "metadata": {},
   "outputs": [
    {
     "name": "stdout",
     "output_type": "stream",
     "text": [
      "79      4.0\n",
      "3118    4.0\n",
      "207     3.0\n",
      "1936   -3.0\n",
      "2696   -3.0\n",
      "615     4.0\n",
      "641     4.0\n",
      "769     1.0\n",
      "786     3.0\n",
      "801     5.0\n",
      "929     4.0\n",
      "1138    3.0\n",
      "1500    4.0\n",
      "1234   -4.0\n",
      "1299    4.0\n",
      "2129    4.0\n",
      "3282   -4.0\n",
      "3291   -2.0\n",
      "2144    5.0\n",
      "2302    5.0\n",
      "3045   -5.0\n",
      "1445    5.0\n",
      "2204    5.0\n",
      "1622    4.0\n",
      "2326    4.0\n",
      "2957    4.0\n",
      "2628    3.0\n",
      "2737    5.0\n",
      "237     4.0\n",
      "2734    4.0\n",
      "2738    4.0\n",
      "969     4.0\n",
      "2747    4.0\n",
      "1391    4.0\n",
      "2326    4.0\n",
      "2957    4.0\n",
      "79      4.0\n",
      "3118    4.0\n",
      "3215    4.0\n",
      "3493    4.0\n",
      "3525    3.0\n",
      "dtype: float64\n"
     ]
    }
   ],
   "source": [
    "simCandidates = pd.Series()\n",
    "for i in range(1, len(myRatings.index)):\n",
    "    #print (\"adding sims for \" + myRatings.index[i] + \"...\")\n",
    "    sims = corrM[myRatings.index[i]].dropna()\n",
    "#     print(\"1: \")\n",
    "#     print(sims)\n",
    "#     print(myRatings[i])\n",
    "    sims = sims.map(lambda x: x * myRatings[i])\n",
    "#     print(\"2: \")\n",
    "#     print(sims)\n",
    "    simCandidates = simCandidates.append(sims)\n",
    "print(simCandidates)"
   ]
  },
  {
   "cell_type": "code",
   "execution_count": 45,
   "metadata": {},
   "outputs": [
    {
     "data": {
      "text/plain": [
       "801     5.0\n",
       "2144    5.0\n",
       "2302    5.0\n",
       "1445    5.0\n",
       "2204    5.0\n",
       "dtype: float64"
      ]
     },
     "execution_count": 45,
     "metadata": {},
     "output_type": "execute_result"
    }
   ],
   "source": [
    "simCandidates.sort_values(inplace = True, ascending = False)\n",
    "simCandidates.head()"
   ]
  },
  {
   "cell_type": "code",
   "execution_count": 49,
   "metadata": {},
   "outputs": [],
   "source": [
    "filteredSims = simCandidates.drop(myRatings.index, errors='ignore')"
   ]
  },
  {
   "cell_type": "code",
   "execution_count": 53,
   "metadata": {},
   "outputs": [
    {
     "name": "stdout",
     "output_type": "stream",
     "text": [
      "Coffee Mechanics\n",
      "Nandi Upachar\n",
      "Orzuv\n",
      "Hungree Belly\n",
      "New Tandoor\n",
      "Sea Spice by 7 Star\n",
      "Adithya\n",
      "Indian Coffee House & Restaurant\n",
      "Capri Gastrobar\n",
      "HVR Veg\n",
      "Namma Kudla\n",
      "Café Mor'ish\n",
      "Udupi Grand\n",
      "Kailash Parbat\n",
      "Palmgrove\n",
      "Sri Raghavendra Stores\n",
      "Tasty Bites\n",
      "Azure - Taj Yeshwantpur\n",
      "Sea Rock\n",
      "Seafood Dot Grill\n",
      "Donne Biriyani House\n",
      "Sendhoor Coffee\n",
      "Hotel Kadamba Veg\n",
      "Palmgrove\n",
      "Sri Raghavendra Stores\n",
      "Adithya\n",
      "Tasty Bites\n",
      "The Coastal Crew by Fujian on 24th\n",
      "Desserted\n",
      "Asaivam Restaurant\n",
      "Coast\n",
      "Urban Solace - Café for the Soul\n",
      "Food Zone\n",
      "S G Rao’s Military Hotel\n",
      "Churchill's\n",
      "The Konkan - Seafood Restaurant\n",
      "Sanchez Taqueria & Cantina\n",
      "Maravanthe\n",
      "Gods Own Cafe\n",
      "The Jade Kitchen\n",
      "Swathi\n"
     ]
    }
   ],
   "source": [
    "l = len(filteredSims)\n",
    "indexes = simCandidates.index.values\n",
    "final = []\n",
    "for i in range(0, l):\n",
    "    dataframe = {}\n",
    "    dataframe['rest_name'] = corrM['rest_name'][indexes[i]]\n",
    "    final.append(dataframe)\n",
    "    print(dataframe['rest_name'])"
   ]
  },
  {
   "cell_type": "code",
   "execution_count": null,
   "metadata": {},
   "outputs": [],
   "source": []
  }
 ],
 "metadata": {
  "kernelspec": {
   "display_name": "Python [conda root]",
   "language": "python",
   "name": "conda-root-py"
  },
  "language_info": {
   "codemirror_mode": {
    "name": "ipython",
    "version": 3
   },
   "file_extension": ".py",
   "mimetype": "text/x-python",
   "name": "python",
   "nbconvert_exporter": "python",
   "pygments_lexer": "ipython3",
   "version": "3.5.6"
  }
 },
 "nbformat": 4,
 "nbformat_minor": 2
}
