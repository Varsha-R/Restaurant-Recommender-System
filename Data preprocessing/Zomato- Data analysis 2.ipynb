{
 "cells": [
  {
   "cell_type": "code",
   "execution_count": 1,
   "metadata": {},
   "outputs": [],
   "source": [
    "import numpy as np\n",
    "import pandas as pd\n",
    "import csv"
   ]
  },
  {
   "cell_type": "code",
   "execution_count": 2,
   "metadata": {},
   "outputs": [
    {
     "data": {
      "text/html": [
       "<div>\n",
       "<style scoped>\n",
       "    .dataframe tbody tr th:only-of-type {\n",
       "        vertical-align: middle;\n",
       "    }\n",
       "\n",
       "    .dataframe tbody tr th {\n",
       "        vertical-align: top;\n",
       "    }\n",
       "\n",
       "    .dataframe thead th {\n",
       "        text-align: right;\n",
       "    }\n",
       "</style>\n",
       "<table border=\"1\" class=\"dataframe\">\n",
       "  <thead>\n",
       "    <tr style=\"text-align: right;\">\n",
       "      <th></th>\n",
       "      <th>Unnamed: 0</th>\n",
       "      <th>cost_for_two</th>\n",
       "      <th>cuisines</th>\n",
       "      <th>locality</th>\n",
       "      <th>rating</th>\n",
       "      <th>rest_name</th>\n",
       "      <th>votes</th>\n",
       "    </tr>\n",
       "  </thead>\n",
       "  <tbody>\n",
       "    <tr>\n",
       "      <th>0</th>\n",
       "      <td>0</td>\n",
       "      <td>1,400</td>\n",
       "      <td>['Continental', 'South Indian', 'Finger Food',...</td>\n",
       "      <td>JP Nagar</td>\n",
       "      <td>4.4</td>\n",
       "      <td>Brahma Brews</td>\n",
       "      <td>530</td>\n",
       "    </tr>\n",
       "    <tr>\n",
       "      <th>1</th>\n",
       "      <td>1</td>\n",
       "      <td>1,200</td>\n",
       "      <td>['North Indian', 'South Indian', 'Continental'...</td>\n",
       "      <td>Rajarajeshwari Nagar</td>\n",
       "      <td>4.4</td>\n",
       "      <td>Secret Of Bangalore                           ...</td>\n",
       "      <td>721</td>\n",
       "    </tr>\n",
       "    <tr>\n",
       "      <th>2</th>\n",
       "      <td>2</td>\n",
       "      <td>500</td>\n",
       "      <td>['Healthy Food', 'North Indian', 'Biryani', 'C...</td>\n",
       "      <td>HSR</td>\n",
       "      <td>4.5</td>\n",
       "      <td>eat.fit</td>\n",
       "      <td>1260</td>\n",
       "    </tr>\n",
       "    <tr>\n",
       "      <th>3</th>\n",
       "      <td>3</td>\n",
       "      <td>1,600</td>\n",
       "      <td>['Continental', 'North Indian', 'Italian', 'So...</td>\n",
       "      <td>Sarjapur Road</td>\n",
       "      <td>4.9</td>\n",
       "      <td>Byg Brewski Brewing Company                   ...</td>\n",
       "      <td>17034</td>\n",
       "    </tr>\n",
       "    <tr>\n",
       "      <th>4</th>\n",
       "      <td>4</td>\n",
       "      <td>1,500</td>\n",
       "      <td>['Continental', 'Finger Food']</td>\n",
       "      <td>JP Nagar</td>\n",
       "      <td>4.3</td>\n",
       "      <td>The Pump House                                ...</td>\n",
       "      <td>992</td>\n",
       "    </tr>\n",
       "  </tbody>\n",
       "</table>\n",
       "</div>"
      ],
      "text/plain": [
       "   Unnamed: 0 cost_for_two                                           cuisines  \\\n",
       "0           0        1,400  ['Continental', 'South Indian', 'Finger Food',...   \n",
       "1           1        1,200  ['North Indian', 'South Indian', 'Continental'...   \n",
       "2           2          500  ['Healthy Food', 'North Indian', 'Biryani', 'C...   \n",
       "3           3        1,600  ['Continental', 'North Indian', 'Italian', 'So...   \n",
       "4           4        1,500                     ['Continental', 'Finger Food']   \n",
       "\n",
       "               locality  rating  \\\n",
       "0              JP Nagar     4.4   \n",
       "1  Rajarajeshwari Nagar     4.4   \n",
       "2                   HSR     4.5   \n",
       "3         Sarjapur Road     4.9   \n",
       "4              JP Nagar     4.3   \n",
       "\n",
       "                                           rest_name  votes  \n",
       "0  Brahma Brews                                         530  \n",
       "1  Secret Of Bangalore                           ...    721  \n",
       "2       eat.fit                                        1260  \n",
       "3  Byg Brewski Brewing Company                   ...  17034  \n",
       "4  The Pump House                                ...    992  "
      ]
     },
     "execution_count": 2,
     "metadata": {},
     "output_type": "execute_result"
    }
   ],
   "source": [
    "df = pd.read_csv('zomato_restaurants.csv')\n",
    "df.head()"
   ]
  },
  {
   "cell_type": "code",
   "execution_count": 4,
   "metadata": {},
   "outputs": [
    {
     "data": {
      "text/plain": [
       "(8051, 7)"
      ]
     },
     "execution_count": 4,
     "metadata": {},
     "output_type": "execute_result"
    }
   ],
   "source": [
    "df.shape"
   ]
  },
  {
   "cell_type": "code",
   "execution_count": 6,
   "metadata": {},
   "outputs": [
    {
     "name": "stdout",
     "output_type": "stream",
     "text": [
      "LENGTH: \n",
      "16\n"
     ]
    }
   ],
   "source": [
    "list_rest_without_ratings = []\n",
    "invalid_rating = df.iloc[8]['rating']\n",
    "for i in range(0, 8051):\n",
    "    if(df.iloc[i]['rating'] == invalid_rating):\n",
    "        dataframe = {}\n",
    "        dataframe['rest_name'] = df.iloc[i]['rest_name']\n",
    "        dataframe['locality'] = df.iloc[i]['locality']\n",
    "        dataframe['cuisines'] = df.iloc[i]['cuisines']\n",
    "        dataframe['cost_for_two'] = df.iloc[i]['cost_for_two']\n",
    "        dataframe['votes'] = df.iloc[i]['votes']\n",
    "        list_rest_without_ratings.append(dataframe)\n",
    "print(\"LENGTH: \")\n",
    "print(len(list_rest_without_ratings))"
   ]
  },
  {
   "cell_type": "code",
   "execution_count": 7,
   "metadata": {},
   "outputs": [
    {
     "data": {
      "text/plain": [
       "8035"
      ]
     },
     "execution_count": 7,
     "metadata": {},
     "output_type": "execute_result"
    }
   ],
   "source": [
    "8051 - 16"
   ]
  },
  {
   "cell_type": "code",
   "execution_count": 8,
   "metadata": {},
   "outputs": [
    {
     "name": "stdout",
     "output_type": "stream",
     "text": [
      "LENGTH: \n",
      "8035\n"
     ]
    }
   ],
   "source": [
    "list_rest_with_ratings = []\n",
    "invalid_rating = df.iloc[8]['rating']\n",
    "for i in range(0, 8051):\n",
    "    if(df.iloc[i]['rating'] != invalid_rating):\n",
    "        dataframe = {}\n",
    "        dataframe['rest_name'] = df.iloc[i]['rest_name']\n",
    "        dataframe['locality'] = df.iloc[i]['locality']\n",
    "        dataframe['cuisines'] = df.iloc[i]['cuisines']\n",
    "        dataframe['cost_for_two'] = df.iloc[i]['cost_for_two']\n",
    "        dataframe['rating'] = df.iloc[i]['rating']\n",
    "        dataframe['votes'] = df.iloc[i]['votes']\n",
    "        list_rest_with_ratings.append(dataframe)\n",
    "print(\"LENGTH: \")\n",
    "print(len(list_rest_with_ratings))"
   ]
  },
  {
   "cell_type": "code",
   "execution_count": 9,
   "metadata": {},
   "outputs": [],
   "source": [
    "df = pd.DataFrame(list_rest_with_ratings)\n",
    "df.to_csv(\"zomato_restaurants.csv\", index=False)"
   ]
  },
  {
   "cell_type": "code",
   "execution_count": 10,
   "metadata": {},
   "outputs": [
    {
     "data": {
      "text/html": [
       "<div>\n",
       "<style scoped>\n",
       "    .dataframe tbody tr th:only-of-type {\n",
       "        vertical-align: middle;\n",
       "    }\n",
       "\n",
       "    .dataframe tbody tr th {\n",
       "        vertical-align: top;\n",
       "    }\n",
       "\n",
       "    .dataframe thead th {\n",
       "        text-align: right;\n",
       "    }\n",
       "</style>\n",
       "<table border=\"1\" class=\"dataframe\">\n",
       "  <thead>\n",
       "    <tr style=\"text-align: right;\">\n",
       "      <th></th>\n",
       "      <th>cost_for_two</th>\n",
       "      <th>cuisines</th>\n",
       "      <th>locality</th>\n",
       "      <th>rating</th>\n",
       "      <th>rest_name</th>\n",
       "      <th>votes</th>\n",
       "    </tr>\n",
       "  </thead>\n",
       "  <tbody>\n",
       "    <tr>\n",
       "      <th>0</th>\n",
       "      <td>1,400</td>\n",
       "      <td>['Continental', 'South Indian', 'Finger Food',...</td>\n",
       "      <td>JP Nagar</td>\n",
       "      <td>4.4</td>\n",
       "      <td>Brahma Brews</td>\n",
       "      <td>530</td>\n",
       "    </tr>\n",
       "    <tr>\n",
       "      <th>1</th>\n",
       "      <td>1,200</td>\n",
       "      <td>['North Indian', 'South Indian', 'Continental'...</td>\n",
       "      <td>Rajarajeshwari Nagar</td>\n",
       "      <td>4.4</td>\n",
       "      <td>Secret Of Bangalore                           ...</td>\n",
       "      <td>721</td>\n",
       "    </tr>\n",
       "    <tr>\n",
       "      <th>2</th>\n",
       "      <td>500</td>\n",
       "      <td>['Healthy Food', 'North Indian', 'Biryani', 'C...</td>\n",
       "      <td>HSR</td>\n",
       "      <td>4.5</td>\n",
       "      <td>eat.fit</td>\n",
       "      <td>1260</td>\n",
       "    </tr>\n",
       "    <tr>\n",
       "      <th>3</th>\n",
       "      <td>1,600</td>\n",
       "      <td>['Continental', 'North Indian', 'Italian', 'So...</td>\n",
       "      <td>Sarjapur Road</td>\n",
       "      <td>4.9</td>\n",
       "      <td>Byg Brewski Brewing Company                   ...</td>\n",
       "      <td>17034</td>\n",
       "    </tr>\n",
       "    <tr>\n",
       "      <th>4</th>\n",
       "      <td>1,500</td>\n",
       "      <td>['Continental', 'Finger Food']</td>\n",
       "      <td>JP Nagar</td>\n",
       "      <td>4.3</td>\n",
       "      <td>The Pump House                                ...</td>\n",
       "      <td>992</td>\n",
       "    </tr>\n",
       "  </tbody>\n",
       "</table>\n",
       "</div>"
      ],
      "text/plain": [
       "  cost_for_two                                           cuisines  \\\n",
       "0        1,400  ['Continental', 'South Indian', 'Finger Food',...   \n",
       "1        1,200  ['North Indian', 'South Indian', 'Continental'...   \n",
       "2          500  ['Healthy Food', 'North Indian', 'Biryani', 'C...   \n",
       "3        1,600  ['Continental', 'North Indian', 'Italian', 'So...   \n",
       "4        1,500                     ['Continental', 'Finger Food']   \n",
       "\n",
       "               locality  rating  \\\n",
       "0              JP Nagar     4.4   \n",
       "1  Rajarajeshwari Nagar     4.4   \n",
       "2                   HSR     4.5   \n",
       "3         Sarjapur Road     4.9   \n",
       "4              JP Nagar     4.3   \n",
       "\n",
       "                                           rest_name  votes  \n",
       "0  Brahma Brews                                         530  \n",
       "1  Secret Of Bangalore                           ...    721  \n",
       "2       eat.fit                                        1260  \n",
       "3  Byg Brewski Brewing Company                   ...  17034  \n",
       "4  The Pump House                                ...    992  "
      ]
     },
     "execution_count": 10,
     "metadata": {},
     "output_type": "execute_result"
    }
   ],
   "source": [
    "df = pd.read_csv('zomato_restaurants.csv')\n",
    "df.head()"
   ]
  },
  {
   "cell_type": "code",
   "execution_count": 11,
   "metadata": {},
   "outputs": [
    {
     "data": {
      "text/plain": [
       "(8035, 6)"
      ]
     },
     "execution_count": 11,
     "metadata": {},
     "output_type": "execute_result"
    }
   ],
   "source": [
    "df.shape"
   ]
  },
  {
   "cell_type": "code",
   "execution_count": 12,
   "metadata": {},
   "outputs": [],
   "source": [
    "l = []\n",
    "for i in range(0, 8035):\n",
    "    dataframe = {}\n",
    "    dataframe['rest_name'] = df.iloc[i]['rest_name'].strip()\n",
    "    dataframe['locality'] = df.iloc[i]['locality']\n",
    "    dataframe['cost_for_two'] = df.iloc[i]['cost_for_two'].strip()\n",
    "    dataframe['rating'] = df.iloc[i]['rating']\n",
    "    dataframe['votes'] = df.iloc[i]['votes']\n",
    "    dataframe['cuisines'] = df.iloc[i]['cuisines']\n",
    "    l.append(dataframe)"
   ]
  },
  {
   "cell_type": "code",
   "execution_count": 15,
   "metadata": {},
   "outputs": [],
   "source": [
    "df_copy = pd.DataFrame(l)\n",
    "df_copy.to_csv(\"zomato_restaurants.csv\", index=False)"
   ]
  },
  {
   "cell_type": "code",
   "execution_count": 16,
   "metadata": {},
   "outputs": [
    {
     "data": {
      "text/html": [
       "<div>\n",
       "<style scoped>\n",
       "    .dataframe tbody tr th:only-of-type {\n",
       "        vertical-align: middle;\n",
       "    }\n",
       "\n",
       "    .dataframe tbody tr th {\n",
       "        vertical-align: top;\n",
       "    }\n",
       "\n",
       "    .dataframe thead th {\n",
       "        text-align: right;\n",
       "    }\n",
       "</style>\n",
       "<table border=\"1\" class=\"dataframe\">\n",
       "  <thead>\n",
       "    <tr style=\"text-align: right;\">\n",
       "      <th></th>\n",
       "      <th>cost_for_two</th>\n",
       "      <th>cuisines</th>\n",
       "      <th>locality</th>\n",
       "      <th>rating</th>\n",
       "      <th>rest_name</th>\n",
       "      <th>votes</th>\n",
       "    </tr>\n",
       "  </thead>\n",
       "  <tbody>\n",
       "    <tr>\n",
       "      <th>0</th>\n",
       "      <td>1,400</td>\n",
       "      <td>['Continental', 'South Indian', 'Finger Food',...</td>\n",
       "      <td>JP Nagar</td>\n",
       "      <td>4.4</td>\n",
       "      <td>Brahma Brews</td>\n",
       "      <td>530</td>\n",
       "    </tr>\n",
       "    <tr>\n",
       "      <th>1</th>\n",
       "      <td>1,200</td>\n",
       "      <td>['North Indian', 'South Indian', 'Continental'...</td>\n",
       "      <td>Rajarajeshwari Nagar</td>\n",
       "      <td>4.4</td>\n",
       "      <td>Secret Of Bangalore</td>\n",
       "      <td>721</td>\n",
       "    </tr>\n",
       "    <tr>\n",
       "      <th>2</th>\n",
       "      <td>500</td>\n",
       "      <td>['Healthy Food', 'North Indian', 'Biryani', 'C...</td>\n",
       "      <td>HSR</td>\n",
       "      <td>4.5</td>\n",
       "      <td>eat.fit</td>\n",
       "      <td>1260</td>\n",
       "    </tr>\n",
       "    <tr>\n",
       "      <th>3</th>\n",
       "      <td>1,600</td>\n",
       "      <td>['Continental', 'North Indian', 'Italian', 'So...</td>\n",
       "      <td>Sarjapur Road</td>\n",
       "      <td>4.9</td>\n",
       "      <td>Byg Brewski Brewing Company</td>\n",
       "      <td>17034</td>\n",
       "    </tr>\n",
       "    <tr>\n",
       "      <th>4</th>\n",
       "      <td>1,500</td>\n",
       "      <td>['Continental', 'Finger Food']</td>\n",
       "      <td>JP Nagar</td>\n",
       "      <td>4.3</td>\n",
       "      <td>The Pump House</td>\n",
       "      <td>992</td>\n",
       "    </tr>\n",
       "  </tbody>\n",
       "</table>\n",
       "</div>"
      ],
      "text/plain": [
       "  cost_for_two                                           cuisines  \\\n",
       "0        1,400  ['Continental', 'South Indian', 'Finger Food',...   \n",
       "1        1,200  ['North Indian', 'South Indian', 'Continental'...   \n",
       "2          500  ['Healthy Food', 'North Indian', 'Biryani', 'C...   \n",
       "3        1,600  ['Continental', 'North Indian', 'Italian', 'So...   \n",
       "4        1,500                     ['Continental', 'Finger Food']   \n",
       "\n",
       "               locality  rating                    rest_name  votes  \n",
       "0              JP Nagar     4.4                 Brahma Brews    530  \n",
       "1  Rajarajeshwari Nagar     4.4          Secret Of Bangalore    721  \n",
       "2                   HSR     4.5                      eat.fit   1260  \n",
       "3         Sarjapur Road     4.9  Byg Brewski Brewing Company  17034  \n",
       "4              JP Nagar     4.3               The Pump House    992  "
      ]
     },
     "execution_count": 16,
     "metadata": {},
     "output_type": "execute_result"
    }
   ],
   "source": [
    "df = pd.read_csv('zomato_restaurants.csv')\n",
    "df.head()"
   ]
  },
  {
   "cell_type": "code",
   "execution_count": 17,
   "metadata": {},
   "outputs": [
    {
     "data": {
      "text/html": [
       "<div>\n",
       "<style scoped>\n",
       "    .dataframe tbody tr th:only-of-type {\n",
       "        vertical-align: middle;\n",
       "    }\n",
       "\n",
       "    .dataframe tbody tr th {\n",
       "        vertical-align: top;\n",
       "    }\n",
       "\n",
       "    .dataframe thead th {\n",
       "        text-align: right;\n",
       "    }\n",
       "</style>\n",
       "<table border=\"1\" class=\"dataframe\">\n",
       "  <thead>\n",
       "    <tr style=\"text-align: right;\">\n",
       "      <th></th>\n",
       "      <th>cost_for_two</th>\n",
       "      <th>cuisines</th>\n",
       "      <th>locality</th>\n",
       "      <th>rating</th>\n",
       "      <th>rest_name</th>\n",
       "      <th>votes</th>\n",
       "    </tr>\n",
       "  </thead>\n",
       "  <tbody>\n",
       "    <tr>\n",
       "      <th>184</th>\n",
       "      <td>2,000</td>\n",
       "      <td>['North Indian', 'Mughlai']</td>\n",
       "      <td>Orion Mall, Malleshwaram</td>\n",
       "      <td>4.9</td>\n",
       "      <td>Punjab Grill</td>\n",
       "      <td>2058</td>\n",
       "    </tr>\n",
       "    <tr>\n",
       "      <th>3</th>\n",
       "      <td>1,600</td>\n",
       "      <td>['Continental', 'North Indian', 'Italian', 'So...</td>\n",
       "      <td>Sarjapur Road</td>\n",
       "      <td>4.9</td>\n",
       "      <td>Byg Brewski Brewing Company</td>\n",
       "      <td>17034</td>\n",
       "    </tr>\n",
       "    <tr>\n",
       "      <th>377</th>\n",
       "      <td>100</td>\n",
       "      <td>['South Indian']</td>\n",
       "      <td>Basavanagudi</td>\n",
       "      <td>4.9</td>\n",
       "      <td>Brahmin's Coffee Bar</td>\n",
       "      <td>2711</td>\n",
       "    </tr>\n",
       "    <tr>\n",
       "      <th>94</th>\n",
       "      <td>100</td>\n",
       "      <td>['South Indian']</td>\n",
       "      <td>Jayanagar</td>\n",
       "      <td>4.9</td>\n",
       "      <td>Taaza Thindi</td>\n",
       "      <td>4152</td>\n",
       "    </tr>\n",
       "    <tr>\n",
       "      <th>99</th>\n",
       "      <td>1,000</td>\n",
       "      <td>['Healthy Food', 'Salad', 'Mediterranean']</td>\n",
       "      <td>Indiranagar</td>\n",
       "      <td>4.9</td>\n",
       "      <td>Santé Spa Cuisine</td>\n",
       "      <td>279</td>\n",
       "    </tr>\n",
       "  </tbody>\n",
       "</table>\n",
       "</div>"
      ],
      "text/plain": [
       "    cost_for_two                                           cuisines  \\\n",
       "184        2,000                        ['North Indian', 'Mughlai']   \n",
       "3          1,600  ['Continental', 'North Indian', 'Italian', 'So...   \n",
       "377          100                                   ['South Indian']   \n",
       "94           100                                   ['South Indian']   \n",
       "99         1,000         ['Healthy Food', 'Salad', 'Mediterranean']   \n",
       "\n",
       "                     locality  rating                    rest_name  votes  \n",
       "184  Orion Mall, Malleshwaram     4.9                 Punjab Grill   2058  \n",
       "3               Sarjapur Road     4.9  Byg Brewski Brewing Company  17034  \n",
       "377              Basavanagudi     4.9         Brahmin's Coffee Bar   2711  \n",
       "94                  Jayanagar     4.9                 Taaza Thindi   4152  \n",
       "99                Indiranagar     4.9            Santé Spa Cuisine    279  "
      ]
     },
     "execution_count": 17,
     "metadata": {},
     "output_type": "execute_result"
    }
   ],
   "source": [
    "df.sort_values(['rating'], ascending=False, inplace=True)\n",
    "df.head()"
   ]
  },
  {
   "cell_type": "code",
   "execution_count": 18,
   "metadata": {},
   "outputs": [],
   "source": [
    "df.to_csv(\"zomato_restaurants.csv\", index=False)"
   ]
  },
  {
   "cell_type": "code",
   "execution_count": null,
   "metadata": {},
   "outputs": [],
   "source": []
  },
  {
   "cell_type": "code",
   "execution_count": null,
   "metadata": {},
   "outputs": [],
   "source": []
  },
  {
   "cell_type": "code",
   "execution_count": 1,
   "metadata": {},
   "outputs": [],
   "source": [
    "from pymongo import MongoClient"
   ]
  },
  {
   "cell_type": "code",
   "execution_count": 2,
   "metadata": {},
   "outputs": [],
   "source": [
    "uri = \"mongodb://127.0.0.1:27017\"\n",
    "client = MongoClient(uri)\n",
    "database = client['RestaurantRecommender']\n",
    "collection = database['user_ratings']"
   ]
  },
  {
   "cell_type": "code",
   "execution_count": 3,
   "metadata": {},
   "outputs": [],
   "source": [
    "username = \"Priya\"\n",
    "user_collection = collection.find({'cust_name': username})\n",
    "user = list(user_collection)"
   ]
  },
  {
   "cell_type": "code",
   "execution_count": 5,
   "metadata": {},
   "outputs": [
    {
     "name": "stdout",
     "output_type": "stream",
     "text": [
      "9\n"
     ]
    }
   ],
   "source": [
    "print(len(user))"
   ]
  }
 ],
 "metadata": {
  "kernelspec": {
   "display_name": "Python [conda root]",
   "language": "python",
   "name": "conda-root-py"
  },
  "language_info": {
   "codemirror_mode": {
    "name": "ipython",
    "version": 3
   },
   "file_extension": ".py",
   "mimetype": "text/x-python",
   "name": "python",
   "nbconvert_exporter": "python",
   "pygments_lexer": "ipython3",
   "version": "3.5.6"
  }
 },
 "nbformat": 4,
 "nbformat_minor": 2
}
