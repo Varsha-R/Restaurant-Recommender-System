{
 "cells": [
  {
   "cell_type": "code",
   "execution_count": 1,
   "metadata": {},
   "outputs": [],
   "source": [
    "import pandas as pd\n",
    "import csv"
   ]
  },
  {
   "cell_type": "code",
   "execution_count": 4,
   "metadata": {},
   "outputs": [],
   "source": [
    "userR = pd.read_csv('userRatings.csv')\n",
    "corrM = pd.read_csv('corrMatrix.csv')"
   ]
  },
  {
   "cell_type": "code",
   "execution_count": 33,
   "metadata": {},
   "outputs": [
    {
     "name": "stdout",
     "output_type": "stream",
     "text": [
      "cust_name                              Sunitha Pai\n",
      "Adithya                                          4\n",
      "Asaivam Restaurant                               3\n",
      "Brew Bakes Cafe                                  4\n",
      "Café Mor'ish                                     4\n",
      "Capri Gastrobar                                  4\n",
      "Churchill's                                      1\n",
      "Coast                                            3\n",
      "Coffee Mechanics                                 5\n",
      "Desserted                                        4\n",
      "Falafel's - The Lebanese Haus                    4\n",
      "Food Zone                                        3\n",
      "Hotel Annapoorna                                 4\n",
      "Indian Coffee House & Restaurant                 4\n",
      "Indira Darshini                                  4\n",
      "Kadalu Sea Food Restaurant                       4\n",
      "Kakal Kai Ruchi                                  4\n",
      "Mangalore Kitchen                                4\n",
      "MoXa Bistro                                      4\n",
      "Mouthful                                         4\n",
      "Namdhari's Salad Bar                             4\n",
      "Namma Kudla                                      4\n",
      "Nandi Upachar                                    5\n",
      "New Tandoor                                      5\n",
      "Palmgrove                                        4\n",
      "Prakriti Delux                                   3\n",
      "S G Rao’s Military Hotel                         3\n",
      "Sabari Juice Junction                            4\n",
      "Sea Spice by 7 Star                              5\n",
      "Seafood Dot Grill                                4\n",
      "Sendhoor Coffee                                  4\n",
      "Sri Raghavendra Stores                           4\n",
      "Tasty Bites                                      4\n",
      "The Coastal Crew by Fujian on 24th               4\n",
      "The Lobby Lounge - The Ritz-Carlton              5\n",
      "Udupi Grand                                      4\n",
      "Urban Solace - Café for the Soul                 3\n",
      "Name: 4417, dtype: object\n"
     ]
    }
   ],
   "source": [
    "user_index = userR.cust_name[userR.cust_name == 'Sunitha Pai'].index[0]\n",
    "myRatings = userR.iloc[user_index].dropna()\n",
    "print(myRatings)"
   ]
  },
  {
   "cell_type": "code",
   "execution_count": 18,
   "metadata": {},
   "outputs": [],
   "source": [
    "simCandidates = pd.Series()\n",
    "for i in range(1, len(myRatings.index)):\n",
    "    sims = corrM[myRatings.index[i]].dropna()\n",
    "    sims = sims.map(lambda x: x * myRatings[i])\n",
    "    simCandidates = simCandidates.append(sims)\n",
    "simCandidates.sort_values(inplace = True, ascending = False)"
   ]
  },
  {
   "cell_type": "code",
   "execution_count": 36,
   "metadata": {},
   "outputs": [
    {
     "name": "stdout",
     "output_type": "stream",
     "text": [
      "801     5.0\n",
      "2144    5.0\n",
      "2302    5.0\n",
      "1445    5.0\n",
      "2204    5.0\n",
      "dtype: float64\n"
     ]
    }
   ],
   "source": [
    "print(simCandidates.head())"
   ]
  },
  {
   "cell_type": "code",
   "execution_count": 57,
   "metadata": {},
   "outputs": [
    {
     "data": {
      "text/plain": [
       "801     5.0\n",
       "2144    5.0\n",
       "2302    5.0\n",
       "1445    5.0\n",
       "2204    5.0\n",
       "2737    5.0\n",
       "2957    4.0\n",
       "237     4.0\n",
       "3118    4.0\n",
       "2734    4.0\n",
       "dtype: float64"
      ]
     },
     "execution_count": 57,
     "metadata": {},
     "output_type": "execute_result"
    }
   ],
   "source": [
    "myRatings = myRatings[1:]\n",
    "filteredSims = simCandidates.drop(myRatings.index, errors='ignore')\n",
    "filteredSims.head(10)"
   ]
  },
  {
   "cell_type": "code",
   "execution_count": 61,
   "metadata": {},
   "outputs": [
    {
     "data": {
      "text/plain": [
       "2957    4.0\n",
       "2957    4.0\n",
       "dtype: float64"
      ]
     },
     "execution_count": 61,
     "metadata": {},
     "output_type": "execute_result"
    }
   ],
   "source": [
    "filteredSims[2957]"
   ]
  },
  {
   "cell_type": "code",
   "execution_count": 42,
   "metadata": {},
   "outputs": [
    {
     "name": "stdout",
     "output_type": "stream",
     "text": [
      "41\n"
     ]
    }
   ],
   "source": [
    "l = len(filteredSims)\n",
    "print(len(simCandidates))"
   ]
  },
  {
   "cell_type": "code",
   "execution_count": 66,
   "metadata": {},
   "outputs": [
    {
     "name": "stdout",
     "output_type": "stream",
     "text": [
      "[ 801 2144 2302 1445 2204 2737 2957  237 3118 2734 2326 1622 2738  615\n",
      " 2129   79  641 1500 1299 3493  969 2957   79 3118 3215  929 2747 1391\n",
      " 2326  207  786 2628 1138 3525  769 3291 2696 1936 1234 3282 3045]\n"
     ]
    }
   ],
   "source": [
    "indexes = simCandidates.index.values\n",
    "print(indexes)"
   ]
  },
  {
   "cell_type": "code",
   "execution_count": 63,
   "metadata": {},
   "outputs": [
    {
     "data": {
      "text/plain": [
       "'Coffee Mechanics'"
      ]
     },
     "execution_count": 63,
     "metadata": {},
     "output_type": "execute_result"
    }
   ],
   "source": [
    "corrM['rest_name'][indexes[0]]"
   ]
  },
  {
   "cell_type": "code",
   "execution_count": 64,
   "metadata": {},
   "outputs": [
    {
     "name": "stdout",
     "output_type": "stream",
     "text": [
      "5.0\n",
      "5.0\n",
      "5.0\n",
      "5.0\n",
      "5.0\n",
      "5.0\n",
      "2957    4.0\n",
      "2957    4.0\n",
      "dtype: float64\n",
      "4.0\n",
      "3118    4.0\n",
      "3118    4.0\n",
      "dtype: float64\n",
      "4.0\n",
      "2326    4.0\n",
      "2326    4.0\n",
      "dtype: float64\n",
      "4.0\n",
      "4.0\n",
      "4.0\n",
      "4.0\n",
      "79    4.0\n",
      "79    4.0\n",
      "dtype: float64\n",
      "4.0\n",
      "4.0\n",
      "4.0\n",
      "4.0\n",
      "4.0\n",
      "2957    4.0\n",
      "2957    4.0\n",
      "dtype: float64\n",
      "79    4.0\n",
      "79    4.0\n",
      "dtype: float64\n",
      "3118    4.0\n",
      "3118    4.0\n",
      "dtype: float64\n",
      "4.0\n",
      "4.0\n",
      "4.0\n",
      "4.0\n",
      "2326    4.0\n",
      "2326    4.0\n",
      "dtype: float64\n",
      "3.0\n",
      "3.0\n",
      "3.0\n",
      "3.0\n",
      "3.0\n",
      "1.0\n",
      "-2.0\n",
      "-3.0\n",
      "-3.0\n",
      "-4.0\n",
      "-4.0\n",
      "-5.0\n"
     ]
    }
   ],
   "source": [
    "final = []\n",
    "for i in range(0, l):\n",
    "    dataframe = {}\n",
    "    dataframe['rest_name'] = corrM['rest_name'][indexes[i]]\n",
    "    dataframe['rating'] = simCandidates[indexes[i]]\n",
    "    print(simCandidates[indexes[i]])\n",
    "    final.append(dataframe)"
   ]
  },
  {
   "cell_type": "code",
   "execution_count": 65,
   "metadata": {},
   "outputs": [
    {
     "name": "stdout",
     "output_type": "stream",
     "text": [
      "[{'rating': 5.0, 'rest_name': 'Coffee Mechanics'}, {'rating': 5.0, 'rest_name': 'Nandi Upachar'}, {'rating': 5.0, 'rest_name': 'Orzuv'}, {'rating': 5.0, 'rest_name': 'Hungree Belly'}, {'rating': 5.0, 'rest_name': 'New Tandoor'}, {'rating': 5.0, 'rest_name': 'Sea Spice by 7 Star'}, {'rating': 2957    4.0\n",
      "2957    4.0\n",
      "dtype: float64, 'rest_name': 'Sri Raghavendra Stores'}, {'rating': 4.0, 'rest_name': 'Azure - Taj Yeshwantpur'}, {'rating': 3118    4.0\n",
      "3118    4.0\n",
      "dtype: float64, 'rest_name': 'Tasty Bites'}, {'rating': 4.0, 'rest_name': 'Sea Rock'}, {'rating': 2326    4.0\n",
      "2326    4.0\n",
      "dtype: float64, 'rest_name': 'Palmgrove'}, {'rating': 4.0, 'rest_name': 'Kailash Parbat'}, {'rating': 4.0, 'rest_name': 'Seafood Dot Grill'}, {'rating': 4.0, 'rest_name': \"Café Mor'ish\"}, {'rating': 4.0, 'rest_name': 'Namma Kudla'}, {'rating': 79    4.0\n",
      "79    4.0\n",
      "dtype: float64, 'rest_name': 'Adithya'}, {'rating': 4.0, 'rest_name': 'Capri Gastrobar'}, {'rating': 4.0, 'rest_name': 'Indian Coffee House & Restaurant'}, {'rating': 4.0, 'rest_name': 'HVR Veg'}, {'rating': 4.0, 'rest_name': 'Udupi Grand'}, {'rating': 4.0, 'rest_name': 'Donne Biriyani House'}, {'rating': 2957    4.0\n",
      "2957    4.0\n",
      "dtype: float64, 'rest_name': 'Sri Raghavendra Stores'}, {'rating': 79    4.0\n",
      "79    4.0\n",
      "dtype: float64, 'rest_name': 'Adithya'}, {'rating': 3118    4.0\n",
      "3118    4.0\n",
      "dtype: float64, 'rest_name': 'Tasty Bites'}, {'rating': 4.0, 'rest_name': 'The Coastal Crew by Fujian on 24th'}, {'rating': 4.0, 'rest_name': 'Desserted'}, {'rating': 4.0, 'rest_name': 'Sendhoor Coffee'}, {'rating': 4.0, 'rest_name': 'Hotel Kadamba Veg'}, {'rating': 2326    4.0\n",
      "2326    4.0\n",
      "dtype: float64, 'rest_name': 'Palmgrove'}, {'rating': 3.0, 'rest_name': 'Asaivam Restaurant'}, {'rating': 3.0, 'rest_name': 'Coast'}, {'rating': 3.0, 'rest_name': 'S G Rao’s Military Hotel'}, {'rating': 3.0, 'rest_name': 'Food Zone'}, {'rating': 3.0, 'rest_name': 'Urban Solace - Café for the Soul'}, {'rating': 1.0, 'rest_name': \"Churchill's\"}, {'rating': -2.0, 'rest_name': 'The Konkan - Seafood Restaurant'}, {'rating': -3.0, 'rest_name': 'Sanchez Taqueria & Cantina'}, {'rating': -3.0, 'rest_name': 'Maravanthe'}, {'rating': -4.0, 'rest_name': 'Gods Own Cafe'}, {'rating': -4.0, 'rest_name': 'The Jade Kitchen'}, {'rating': -5.0, 'rest_name': 'Swathi'}]\n"
     ]
    }
   ],
   "source": [
    "print(final)"
   ]
  },
  {
   "cell_type": "code",
   "execution_count": 47,
   "metadata": {},
   "outputs": [
    {
     "data": {
      "text/plain": [
       "Index(['Adithya', 'Asaivam Restaurant', 'Brew Bakes Cafe', 'Café Mor'ish',\n",
       "       'Capri Gastrobar', 'Churchill's', 'Coast', 'Coffee Mechanics',\n",
       "       'Desserted', 'Falafel's - The Lebanese Haus', 'Food Zone',\n",
       "       'Hotel Annapoorna', 'Indian Coffee House & Restaurant',\n",
       "       'Indira Darshini', 'Kadalu Sea Food Restaurant', 'Kakal Kai Ruchi',\n",
       "       'Mangalore Kitchen', 'MoXa Bistro', 'Mouthful', 'Namdhari's Salad Bar',\n",
       "       'Namma Kudla', 'Nandi Upachar', 'New Tandoor', 'Palmgrove',\n",
       "       'Prakriti Delux', 'S G Rao’s Military Hotel', 'Sabari Juice Junction',\n",
       "       'Sea Spice by 7 Star', 'Seafood Dot Grill', 'Sendhoor Coffee',\n",
       "       'Sri Raghavendra Stores', 'Tasty Bites',\n",
       "       'The Coastal Crew by Fujian on 24th',\n",
       "       'The Lobby Lounge - The Ritz-Carlton', 'Udupi Grand',\n",
       "       'Urban Solace - Café for the Soul'],\n",
       "      dtype='object')"
      ]
     },
     "execution_count": 47,
     "metadata": {},
     "output_type": "execute_result"
    }
   ],
   "source": [
    "myRatings.index"
   ]
  },
  {
   "cell_type": "code",
   "execution_count": null,
   "metadata": {},
   "outputs": [],
   "source": []
  }
 ],
 "metadata": {
  "kernelspec": {
   "display_name": "Python [conda root]",
   "language": "python",
   "name": "conda-root-py"
  },
  "language_info": {
   "codemirror_mode": {
    "name": "ipython",
    "version": 3
   },
   "file_extension": ".py",
   "mimetype": "text/x-python",
   "name": "python",
   "nbconvert_exporter": "python",
   "pygments_lexer": "ipython3",
   "version": "3.5.6"
  }
 },
 "nbformat": 4,
 "nbformat_minor": 2
}
